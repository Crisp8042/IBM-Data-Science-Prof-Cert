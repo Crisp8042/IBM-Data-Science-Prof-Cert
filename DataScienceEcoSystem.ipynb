{
 "cells": [
  {
   "cell_type": "markdown",
   "id": "f17f3e76",
   "metadata": {},
   "source": [
    "# Data Science Tools and Ecosystem"
   ]
  },
  {
   "cell_type": "markdown",
   "id": "e7c4ab91",
   "metadata": {},
   "source": [
    "In this notebook, Data Science Tools and Ecosystem are summarized."
   ]
  },
  {
   "cell_type": "markdown",
   "id": "c0ac3ea2",
   "metadata": {},
   "source": [
    "**Objectives**\n",
    "- List populat langauges that data scientists use\n",
    "- List commonly used libraries in data science\n",
    "- Put data science tool into a single column table\n",
    "- Show some basic math operations"
   ]
  },
  {
   "cell_type": "markdown",
   "id": "9e116616",
   "metadata": {},
   "source": [
    "Some of the popular languages that Data Scientists use are:"
   ]
  },
  {
   "cell_type": "markdown",
   "id": "b91fd0ad",
   "metadata": {},
   "source": [
    "    1. Python\n",
    "    2. R\n",
    "    3. Julia\n",
    "    4. Java\n",
    "    5. C/C++"
   ]
  },
  {
   "cell_type": "markdown",
   "id": "52a9f2a3",
   "metadata": {},
   "source": [
    "Some of the commonly used libraries used by Data Scientists include:"
   ]
  },
  {
   "cell_type": "markdown",
   "id": "e669c7e6",
   "metadata": {},
   "source": [
    "1. SciPy \n",
    "2. NumPy \n",
    "3. Pandas \n",
    "4. Matplotlib"
   ]
  },
  {
   "cell_type": "markdown",
   "id": "7a56050a",
   "metadata": {},
   "source": [
    "| Data Science Tools |\n",
    "| --- |\n",
    "| R studio |\n",
    "| Apache Spark |\n",
    "| Tensor Flow |"
   ]
  },
  {
   "cell_type": "markdown",
   "id": "c1d2d4d7",
   "metadata": {},
   "source": [
    "### Below are a few examples of evaluating arithmetic expressions in Python"
   ]
  },
  {
   "cell_type": "code",
   "execution_count": 1,
   "id": "caad997f",
   "metadata": {},
   "outputs": [
    {
     "data": {
      "text/plain": [
       "17"
      ]
     },
     "execution_count": 1,
     "metadata": {},
     "output_type": "execute_result"
    }
   ],
   "source": [
    "#This a simple arithmetic expression to mutiply then add integers\n",
    "(3*4)+5"
   ]
  },
  {
   "cell_type": "code",
   "execution_count": 2,
   "id": "48efb86a",
   "metadata": {},
   "outputs": [
    {
     "data": {
      "text/plain": [
       "3.3333333333333335"
      ]
     },
     "execution_count": 2,
     "metadata": {},
     "output_type": "execute_result"
    }
   ],
   "source": [
    "#This will convert 200 minutes to hours by diving by 60\n",
    "200/60"
   ]
  },
  {
   "cell_type": "markdown",
   "id": "d4465180",
   "metadata": {},
   "source": [
    "## Author\n",
    "Paul Canning"
   ]
  },
  {
   "cell_type": "code",
   "execution_count": null,
   "id": "e15ace85",
   "metadata": {},
   "outputs": [],
   "source": []
  }
 ],
 "metadata": {
  "kernelspec": {
   "display_name": "Python 3 (ipykernel)",
   "language": "python",
   "name": "python3"
  },
  "language_info": {
   "codemirror_mode": {
    "name": "ipython",
    "version": 3
   },
   "file_extension": ".py",
   "mimetype": "text/x-python",
   "name": "python",
   "nbconvert_exporter": "python",
   "pygments_lexer": "ipython3",
   "version": "3.11.5"
  }
 },
 "nbformat": 4,
 "nbformat_minor": 5
}
